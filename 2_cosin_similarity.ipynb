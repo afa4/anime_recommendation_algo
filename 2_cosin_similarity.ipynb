{
 "cells": [
  {
   "cell_type": "code",
   "execution_count": 5,
   "metadata": {},
   "outputs": [],
   "source": [
    "import numpy as np\n",
    "import pandas as pd\n",
    "import polars as pl"
   ]
  },
  {
   "cell_type": "code",
   "execution_count": 6,
   "metadata": {},
   "outputs": [
    {
     "data": {
      "text/html": [
       "<div><style>\n",
       ".dataframe > thead > tr,\n",
       ".dataframe > tbody > tr {\n",
       "  text-align: right;\n",
       "  white-space: pre-wrap;\n",
       "}\n",
       "</style>\n",
       "<small>shape: (5, 108_710)</small><table border=\"1\" class=\"dataframe\"><thead><tr><th>title</th><th>----phoebelyn</th><th>---L-AND-AME-4EV</th><th>--AnimeBoy--</th><th>--Etsuko--</th><th>--FallenAngel--</th><th>--Kin--</th><th>--N--</th><th>--PHOENIX--</th><th>--RIE--</th><th>--Sc--</th><th>--Vaultkai101--</th><th>--Zelo--</th><th>--animeislife--</th><th>--ariste</th><th>--kitade--</th><th>--lilly--</th><th>--yukii</th><th>-0_o-</th><th>-3L1xiR-</th><th>-7</th><th>-A123</th><th>-ARCADIA</th><th>-ASF</th><th>-AWildLuke-</th><th>-Ackerman</th><th>-Adamu</th><th>-Aine-</th><th>-AkagiChan-</th><th>-Alberto-</th><th>-Alians-</th><th>-Alicia-San-</th><th>-Ally</th><th>-Alta-</th><th>-Alvein-</th><th>-Amaya--</th><th>-Anderty-</th><th>&hellip;</th><th>zwil</th><th>zwqase</th><th>zwr</th><th>zxcv</th><th>zxeleven</th><th>zxien</th><th>zxnno</th><th>zxr24rs</th><th>zxziMucca</th><th>zybactik</th><th>zybrnetic</th><th>zycloneb</th><th>zyexis</th><th>zyggin</th><th>zygi</th><th>zygimantas92</th><th>zyglarz</th><th>zyka_vyrus</th><th>zykeu</th><th>zykotic_</th><th>zyloric</th><th>zync</th><th>zyphore</th><th>zyzgen</th><th>zz-e</th><th>zz1crazyxx</th><th>zzedd</th><th>zzeldaxx7</th><th>zzeroparticle</th><th>zzganz</th><th>zzrorozz</th><th>zzs</th><th>zzshinzozz</th><th>zzvl</th><th>zzz275</th><th>zzzcielo</th><th>zzzzz-chan</th></tr><tr><td>str</td><td>str</td><td>str</td><td>f64</td><td>str</td><td>f64</td><td>f64</td><td>f64</td><td>str</td><td>f64</td><td>str</td><td>f64</td><td>f64</td><td>str</td><td>str</td><td>f64</td><td>str</td><td>str</td><td>f64</td><td>str</td><td>f64</td><td>f64</td><td>f64</td><td>str</td><td>f64</td><td>f64</td><td>f64</td><td>f64</td><td>f64</td><td>f64</td><td>f64</td><td>f64</td><td>f64</td><td>f64</td><td>f64</td><td>f64</td><td>f64</td><td>&hellip;</td><td>f64</td><td>f64</td><td>f64</td><td>f64</td><td>str</td><td>f64</td><td>f64</td><td>f64</td><td>f64</td><td>f64</td><td>f64</td><td>f64</td><td>f64</td><td>f64</td><td>f64</td><td>f64</td><td>f64</td><td>f64</td><td>f64</td><td>f64</td><td>f64</td><td>f64</td><td>f64</td><td>f64</td><td>f64</td><td>f64</td><td>f64</td><td>f64</td><td>f64</td><td>f64</td><td>f64</td><td>f64</td><td>f64</td><td>str</td><td>f64</td><td>f64</td><td>f64</td></tr></thead><tbody><tr><td>&quot;&quot;Bungaku Shoujo&quot; Kyou no Oyats…</td><td>null</td><td>null</td><td>0.0</td><td>null</td><td>null</td><td>null</td><td>null</td><td>null</td><td>0.0</td><td>null</td><td>null</td><td>null</td><td>null</td><td>null</td><td>9.0</td><td>null</td><td>null</td><td>null</td><td>null</td><td>null</td><td>null</td><td>null</td><td>null</td><td>null</td><td>null</td><td>null</td><td>null</td><td>null</td><td>null</td><td>null</td><td>null</td><td>null</td><td>null</td><td>null</td><td>null</td><td>null</td><td>&hellip;</td><td>null</td><td>null</td><td>null</td><td>null</td><td>null</td><td>null</td><td>null</td><td>null</td><td>null</td><td>null</td><td>null</td><td>null</td><td>null</td><td>null</td><td>8.0</td><td>null</td><td>null</td><td>null</td><td>null</td><td>null</td><td>null</td><td>null</td><td>null</td><td>null</td><td>null</td><td>null</td><td>null</td><td>null</td><td>null</td><td>null</td><td>null</td><td>null</td><td>null</td><td>null</td><td>null</td><td>null</td><td>null</td></tr><tr><td>&quot;&quot;Bungaku Shoujo&quot; Memoire&quot;</td><td>null</td><td>null</td><td>0.0</td><td>null</td><td>null</td><td>null</td><td>null</td><td>null</td><td>0.0</td><td>null</td><td>null</td><td>null</td><td>null</td><td>null</td><td>9.0</td><td>null</td><td>null</td><td>null</td><td>null</td><td>null</td><td>null</td><td>null</td><td>null</td><td>null</td><td>null</td><td>null</td><td>null</td><td>null</td><td>null</td><td>null</td><td>null</td><td>null</td><td>null</td><td>null</td><td>null</td><td>null</td><td>&hellip;</td><td>8.0</td><td>null</td><td>null</td><td>null</td><td>null</td><td>null</td><td>null</td><td>null</td><td>null</td><td>null</td><td>null</td><td>null</td><td>null</td><td>null</td><td>null</td><td>null</td><td>null</td><td>null</td><td>null</td><td>null</td><td>null</td><td>null</td><td>null</td><td>null</td><td>null</td><td>null</td><td>null</td><td>null</td><td>null</td><td>null</td><td>null</td><td>null</td><td>null</td><td>null</td><td>null</td><td>null</td><td>null</td></tr><tr><td>&quot;&quot;Bungaku Shoujo&quot; Movie&quot;</td><td>null</td><td>null</td><td>6.0</td><td>null</td><td>null</td><td>6.0</td><td>null</td><td>null</td><td>6.0</td><td>null</td><td>null</td><td>null</td><td>null</td><td>null</td><td>9.0</td><td>null</td><td>null</td><td>null</td><td>null</td><td>null</td><td>null</td><td>null</td><td>null</td><td>null</td><td>null</td><td>null</td><td>null</td><td>null</td><td>null</td><td>0.0</td><td>null</td><td>null</td><td>null</td><td>null</td><td>null</td><td>null</td><td>&hellip;</td><td>null</td><td>null</td><td>null</td><td>null</td><td>null</td><td>null</td><td>null</td><td>null</td><td>null</td><td>null</td><td>null</td><td>null</td><td>null</td><td>null</td><td>null</td><td>null</td><td>null</td><td>null</td><td>null</td><td>null</td><td>null</td><td>null</td><td>0.0</td><td>null</td><td>null</td><td>null</td><td>null</td><td>null</td><td>7.0</td><td>7.0</td><td>null</td><td>null</td><td>null</td><td>null</td><td>null</td><td>null</td><td>null</td></tr><tr><td>&quot;&quot;Eikou Naki Tensai-tachi&quot; Kara…</td><td>null</td><td>null</td><td>null</td><td>null</td><td>null</td><td>null</td><td>null</td><td>null</td><td>null</td><td>null</td><td>null</td><td>null</td><td>null</td><td>null</td><td>null</td><td>null</td><td>null</td><td>null</td><td>null</td><td>null</td><td>null</td><td>null</td><td>null</td><td>null</td><td>null</td><td>null</td><td>null</td><td>null</td><td>null</td><td>null</td><td>null</td><td>null</td><td>null</td><td>null</td><td>null</td><td>null</td><td>&hellip;</td><td>null</td><td>null</td><td>null</td><td>null</td><td>null</td><td>null</td><td>null</td><td>null</td><td>null</td><td>null</td><td>null</td><td>null</td><td>null</td><td>null</td><td>null</td><td>null</td><td>null</td><td>null</td><td>null</td><td>null</td><td>null</td><td>null</td><td>null</td><td>null</td><td>null</td><td>null</td><td>null</td><td>null</td><td>null</td><td>null</td><td>null</td><td>null</td><td>null</td><td>null</td><td>null</td><td>null</td><td>null</td></tr><tr><td>&quot;&quot;Eiyuu&quot; Kaitai&quot;</td><td>null</td><td>null</td><td>null</td><td>null</td><td>null</td><td>null</td><td>null</td><td>null</td><td>null</td><td>null</td><td>null</td><td>null</td><td>null</td><td>null</td><td>null</td><td>null</td><td>null</td><td>null</td><td>null</td><td>null</td><td>null</td><td>null</td><td>null</td><td>null</td><td>null</td><td>null</td><td>null</td><td>null</td><td>null</td><td>null</td><td>null</td><td>null</td><td>null</td><td>null</td><td>null</td><td>null</td><td>&hellip;</td><td>null</td><td>null</td><td>null</td><td>null</td><td>null</td><td>null</td><td>null</td><td>null</td><td>null</td><td>null</td><td>null</td><td>null</td><td>null</td><td>null</td><td>null</td><td>null</td><td>null</td><td>null</td><td>null</td><td>null</td><td>null</td><td>null</td><td>null</td><td>null</td><td>null</td><td>null</td><td>null</td><td>null</td><td>null</td><td>null</td><td>null</td><td>null</td><td>null</td><td>null</td><td>null</td><td>null</td><td>null</td></tr></tbody></table></div>"
      ],
      "text/plain": [
       "shape: (5, 108_710)\n",
       "┌─────────────┬─────────────┬─────────────┬────────────┬───┬──────┬────────┬──────────┬────────────┐\n",
       "│ title       ┆ ----phoebel ┆ ---L-AND-AM ┆ --AnimeBoy ┆ … ┆ zzvl ┆ zzz275 ┆ zzzcielo ┆ zzzzz-chan │\n",
       "│ ---         ┆ yn          ┆ E-4EV       ┆ --         ┆   ┆ ---  ┆ ---    ┆ ---      ┆ ---        │\n",
       "│ str         ┆ ---         ┆ ---         ┆ ---        ┆   ┆ str  ┆ f64    ┆ f64      ┆ f64        │\n",
       "│             ┆ str         ┆ str         ┆ f64        ┆   ┆      ┆        ┆          ┆            │\n",
       "╞═════════════╪═════════════╪═════════════╪════════════╪═══╪══════╪════════╪══════════╪════════════╡\n",
       "│ \"Bungaku    ┆ null        ┆ null        ┆ 0.0        ┆ … ┆ null ┆ null   ┆ null     ┆ null       │\n",
       "│ Shoujo\"     ┆             ┆             ┆            ┆   ┆      ┆        ┆          ┆            │\n",
       "│ Kyou no     ┆             ┆             ┆            ┆   ┆      ┆        ┆          ┆            │\n",
       "│ Oyats…      ┆             ┆             ┆            ┆   ┆      ┆        ┆          ┆            │\n",
       "│ \"Bungaku    ┆ null        ┆ null        ┆ 0.0        ┆ … ┆ null ┆ null   ┆ null     ┆ null       │\n",
       "│ Shoujo\"     ┆             ┆             ┆            ┆   ┆      ┆        ┆          ┆            │\n",
       "│ Memoire     ┆             ┆             ┆            ┆   ┆      ┆        ┆          ┆            │\n",
       "│ \"Bungaku    ┆ null        ┆ null        ┆ 6.0        ┆ … ┆ null ┆ null   ┆ null     ┆ null       │\n",
       "│ Shoujo\"     ┆             ┆             ┆            ┆   ┆      ┆        ┆          ┆            │\n",
       "│ Movie       ┆             ┆             ┆            ┆   ┆      ┆        ┆          ┆            │\n",
       "│ \"Eikou Naki ┆ null        ┆ null        ┆ null       ┆ … ┆ null ┆ null   ┆ null     ┆ null       │\n",
       "│ Tensai-tach ┆             ┆             ┆            ┆   ┆      ┆        ┆          ┆            │\n",
       "│ i\" Kara…    ┆             ┆             ┆            ┆   ┆      ┆        ┆          ┆            │\n",
       "│ \"Eiyuu\"     ┆ null        ┆ null        ┆ null       ┆ … ┆ null ┆ null   ┆ null     ┆ null       │\n",
       "│ Kaitai      ┆             ┆             ┆            ┆   ┆      ┆        ┆          ┆            │\n",
       "└─────────────┴─────────────┴─────────────┴────────────┴───┴──────┴────────┴──────────┴────────────┘"
      ]
     },
     "execution_count": 6,
     "metadata": {},
     "output_type": "execute_result"
    }
   ],
   "source": [
    "animes_rated_by_users = pl.read_csv('./dataset/animes_rated_by_users.csv')\n",
    "animes_rated_by_users.head()"
   ]
  },
  {
   "cell_type": "code",
   "execution_count": 7,
   "metadata": {},
   "outputs": [
    {
     "data": {
      "text/html": [
       "<div><style>\n",
       ".dataframe > thead > tr,\n",
       ".dataframe > tbody > tr {\n",
       "  text-align: right;\n",
       "  white-space: pre-wrap;\n",
       "}\n",
       "</style>\n",
       "<small>shape: (6_668, 108_710)</small><table border=\"1\" class=\"dataframe\"><thead><tr><th>title</th><th>----phoebelyn</th><th>---L-AND-AME-4EV</th><th>--AnimeBoy--</th><th>--Etsuko--</th><th>--FallenAngel--</th><th>--Kin--</th><th>--N--</th><th>--PHOENIX--</th><th>--RIE--</th><th>--Sc--</th><th>--Vaultkai101--</th><th>--Zelo--</th><th>--animeislife--</th><th>--ariste</th><th>--kitade--</th><th>--lilly--</th><th>--yukii</th><th>-0_o-</th><th>-3L1xiR-</th><th>-7</th><th>-A123</th><th>-ARCADIA</th><th>-ASF</th><th>-AWildLuke-</th><th>-Ackerman</th><th>-Adamu</th><th>-Aine-</th><th>-AkagiChan-</th><th>-Alberto-</th><th>-Alians-</th><th>-Alicia-San-</th><th>-Ally</th><th>-Alta-</th><th>-Alvein-</th><th>-Amaya--</th><th>-Anderty-</th><th>&hellip;</th><th>zwil</th><th>zwqase</th><th>zwr</th><th>zxcv</th><th>zxeleven</th><th>zxien</th><th>zxnno</th><th>zxr24rs</th><th>zxziMucca</th><th>zybactik</th><th>zybrnetic</th><th>zycloneb</th><th>zyexis</th><th>zyggin</th><th>zygi</th><th>zygimantas92</th><th>zyglarz</th><th>zyka_vyrus</th><th>zykeu</th><th>zykotic_</th><th>zyloric</th><th>zync</th><th>zyphore</th><th>zyzgen</th><th>zz-e</th><th>zz1crazyxx</th><th>zzedd</th><th>zzeldaxx7</th><th>zzeroparticle</th><th>zzganz</th><th>zzrorozz</th><th>zzs</th><th>zzshinzozz</th><th>zzvl</th><th>zzz275</th><th>zzzcielo</th><th>zzzzz-chan</th></tr><tr><td>str</td><td>str</td><td>str</td><td>f64</td><td>str</td><td>f64</td><td>f64</td><td>f64</td><td>str</td><td>f64</td><td>str</td><td>f64</td><td>f64</td><td>str</td><td>str</td><td>f64</td><td>str</td><td>str</td><td>f64</td><td>str</td><td>f64</td><td>f64</td><td>f64</td><td>str</td><td>f64</td><td>f64</td><td>f64</td><td>f64</td><td>f64</td><td>f64</td><td>f64</td><td>f64</td><td>f64</td><td>f64</td><td>f64</td><td>f64</td><td>f64</td><td>&hellip;</td><td>f64</td><td>f64</td><td>f64</td><td>f64</td><td>str</td><td>f64</td><td>f64</td><td>f64</td><td>f64</td><td>f64</td><td>f64</td><td>f64</td><td>f64</td><td>f64</td><td>f64</td><td>f64</td><td>f64</td><td>f64</td><td>f64</td><td>f64</td><td>f64</td><td>f64</td><td>f64</td><td>f64</td><td>f64</td><td>f64</td><td>f64</td><td>f64</td><td>f64</td><td>f64</td><td>f64</td><td>f64</td><td>f64</td><td>str</td><td>f64</td><td>f64</td><td>f64</td></tr></thead><tbody><tr><td>&quot;&quot;Bungaku Shoujo&quot; Kyou no Oyats…</td><td>null</td><td>null</td><td>0.0</td><td>null</td><td>null</td><td>null</td><td>null</td><td>null</td><td>0.0</td><td>null</td><td>null</td><td>null</td><td>null</td><td>null</td><td>9.0</td><td>null</td><td>null</td><td>null</td><td>null</td><td>null</td><td>null</td><td>null</td><td>null</td><td>null</td><td>null</td><td>null</td><td>null</td><td>null</td><td>null</td><td>null</td><td>null</td><td>null</td><td>null</td><td>null</td><td>null</td><td>null</td><td>&hellip;</td><td>null</td><td>null</td><td>null</td><td>null</td><td>null</td><td>null</td><td>null</td><td>null</td><td>null</td><td>null</td><td>null</td><td>null</td><td>null</td><td>null</td><td>8.0</td><td>null</td><td>null</td><td>null</td><td>null</td><td>null</td><td>null</td><td>null</td><td>null</td><td>null</td><td>null</td><td>null</td><td>null</td><td>null</td><td>null</td><td>null</td><td>null</td><td>null</td><td>null</td><td>null</td><td>null</td><td>null</td><td>null</td></tr><tr><td>&quot;&quot;Bungaku Shoujo&quot; Memoire&quot;</td><td>null</td><td>null</td><td>0.0</td><td>null</td><td>null</td><td>null</td><td>null</td><td>null</td><td>0.0</td><td>null</td><td>null</td><td>null</td><td>null</td><td>null</td><td>9.0</td><td>null</td><td>null</td><td>null</td><td>null</td><td>null</td><td>null</td><td>null</td><td>null</td><td>null</td><td>null</td><td>null</td><td>null</td><td>null</td><td>null</td><td>null</td><td>null</td><td>null</td><td>null</td><td>null</td><td>null</td><td>null</td><td>&hellip;</td><td>8.0</td><td>null</td><td>null</td><td>null</td><td>null</td><td>null</td><td>null</td><td>null</td><td>null</td><td>null</td><td>null</td><td>null</td><td>null</td><td>null</td><td>null</td><td>null</td><td>null</td><td>null</td><td>null</td><td>null</td><td>null</td><td>null</td><td>null</td><td>null</td><td>null</td><td>null</td><td>null</td><td>null</td><td>null</td><td>null</td><td>null</td><td>null</td><td>null</td><td>null</td><td>null</td><td>null</td><td>null</td></tr><tr><td>&quot;&quot;Bungaku Shoujo&quot; Movie&quot;</td><td>null</td><td>null</td><td>6.0</td><td>null</td><td>null</td><td>6.0</td><td>null</td><td>null</td><td>6.0</td><td>null</td><td>null</td><td>null</td><td>null</td><td>null</td><td>9.0</td><td>null</td><td>null</td><td>null</td><td>null</td><td>null</td><td>null</td><td>null</td><td>null</td><td>null</td><td>null</td><td>null</td><td>null</td><td>null</td><td>null</td><td>0.0</td><td>null</td><td>null</td><td>null</td><td>null</td><td>null</td><td>null</td><td>&hellip;</td><td>null</td><td>null</td><td>null</td><td>null</td><td>null</td><td>null</td><td>null</td><td>null</td><td>null</td><td>null</td><td>null</td><td>null</td><td>null</td><td>null</td><td>null</td><td>null</td><td>null</td><td>null</td><td>null</td><td>null</td><td>null</td><td>null</td><td>0.0</td><td>null</td><td>null</td><td>null</td><td>null</td><td>null</td><td>7.0</td><td>7.0</td><td>null</td><td>null</td><td>null</td><td>null</td><td>null</td><td>null</td><td>null</td></tr><tr><td>&quot;&quot;Eikou Naki Tensai-tachi&quot; Kara…</td><td>null</td><td>null</td><td>null</td><td>null</td><td>null</td><td>null</td><td>null</td><td>null</td><td>null</td><td>null</td><td>null</td><td>null</td><td>null</td><td>null</td><td>null</td><td>null</td><td>null</td><td>null</td><td>null</td><td>null</td><td>null</td><td>null</td><td>null</td><td>null</td><td>null</td><td>null</td><td>null</td><td>null</td><td>null</td><td>null</td><td>null</td><td>null</td><td>null</td><td>null</td><td>null</td><td>null</td><td>&hellip;</td><td>null</td><td>null</td><td>null</td><td>null</td><td>null</td><td>null</td><td>null</td><td>null</td><td>null</td><td>null</td><td>null</td><td>null</td><td>null</td><td>null</td><td>null</td><td>null</td><td>null</td><td>null</td><td>null</td><td>null</td><td>null</td><td>null</td><td>null</td><td>null</td><td>null</td><td>null</td><td>null</td><td>null</td><td>null</td><td>null</td><td>null</td><td>null</td><td>null</td><td>null</td><td>null</td><td>null</td><td>null</td></tr><tr><td>&quot;&quot;Eiyuu&quot; Kaitai&quot;</td><td>null</td><td>null</td><td>null</td><td>null</td><td>null</td><td>null</td><td>null</td><td>null</td><td>null</td><td>null</td><td>null</td><td>null</td><td>null</td><td>null</td><td>null</td><td>null</td><td>null</td><td>null</td><td>null</td><td>null</td><td>null</td><td>null</td><td>null</td><td>null</td><td>null</td><td>null</td><td>null</td><td>null</td><td>null</td><td>null</td><td>null</td><td>null</td><td>null</td><td>null</td><td>null</td><td>null</td><td>&hellip;</td><td>null</td><td>null</td><td>null</td><td>null</td><td>null</td><td>null</td><td>null</td><td>null</td><td>null</td><td>null</td><td>null</td><td>null</td><td>null</td><td>null</td><td>null</td><td>null</td><td>null</td><td>null</td><td>null</td><td>null</td><td>null</td><td>null</td><td>null</td><td>null</td><td>null</td><td>null</td><td>null</td><td>null</td><td>null</td><td>null</td><td>null</td><td>null</td><td>null</td><td>null</td><td>null</td><td>null</td><td>null</td></tr><tr><td>&hellip;</td><td>&hellip;</td><td>&hellip;</td><td>&hellip;</td><td>&hellip;</td><td>&hellip;</td><td>&hellip;</td><td>&hellip;</td><td>&hellip;</td><td>&hellip;</td><td>&hellip;</td><td>&hellip;</td><td>&hellip;</td><td>&hellip;</td><td>&hellip;</td><td>&hellip;</td><td>&hellip;</td><td>&hellip;</td><td>&hellip;</td><td>&hellip;</td><td>&hellip;</td><td>&hellip;</td><td>&hellip;</td><td>&hellip;</td><td>&hellip;</td><td>&hellip;</td><td>&hellip;</td><td>&hellip;</td><td>&hellip;</td><td>&hellip;</td><td>&hellip;</td><td>&hellip;</td><td>&hellip;</td><td>&hellip;</td><td>&hellip;</td><td>&hellip;</td><td>&hellip;</td><td>&hellip;</td><td>&hellip;</td><td>&hellip;</td><td>&hellip;</td><td>&hellip;</td><td>&hellip;</td><td>&hellip;</td><td>&hellip;</td><td>&hellip;</td><td>&hellip;</td><td>&hellip;</td><td>&hellip;</td><td>&hellip;</td><td>&hellip;</td><td>&hellip;</td><td>&hellip;</td><td>&hellip;</td><td>&hellip;</td><td>&hellip;</td><td>&hellip;</td><td>&hellip;</td><td>&hellip;</td><td>&hellip;</td><td>&hellip;</td><td>&hellip;</td><td>&hellip;</td><td>&hellip;</td><td>&hellip;</td><td>&hellip;</td><td>&hellip;</td><td>&hellip;</td><td>&hellip;</td><td>&hellip;</td><td>&hellip;</td><td>&hellip;</td><td>&hellip;</td><td>&hellip;</td><td>&hellip;</td></tr><tr><td>&quot;xxxHOLiC&quot;</td><td>null</td><td>null</td><td>null</td><td>null</td><td>9.0</td><td>null</td><td>null</td><td>null</td><td>null</td><td>null</td><td>null</td><td>null</td><td>null</td><td>&quot;0.0&quot;</td><td>null</td><td>null</td><td>&quot;0.0&quot;</td><td>0.0</td><td>null</td><td>null</td><td>null</td><td>null</td><td>null</td><td>null</td><td>8.0</td><td>null</td><td>0.0</td><td>null</td><td>null</td><td>null</td><td>null</td><td>null</td><td>null</td><td>null</td><td>null</td><td>10.0</td><td>&hellip;</td><td>8.0</td><td>null</td><td>null</td><td>null</td><td>null</td><td>0.0</td><td>null</td><td>7.0</td><td>null</td><td>null</td><td>null</td><td>null</td><td>0.0</td><td>0.0</td><td>null</td><td>null</td><td>null</td><td>null</td><td>null</td><td>null</td><td>null</td><td>null</td><td>null</td><td>null</td><td>null</td><td>null</td><td>null</td><td>null</td><td>null</td><td>7.0</td><td>null</td><td>0.0</td><td>null</td><td>&quot;0.0&quot;</td><td>null</td><td>8.0</td><td>9.0</td></tr><tr><td>&quot;xxxHOLiC Kei&quot;</td><td>null</td><td>null</td><td>null</td><td>null</td><td>9.0</td><td>null</td><td>null</td><td>null</td><td>null</td><td>null</td><td>null</td><td>null</td><td>null</td><td>null</td><td>null</td><td>null</td><td>null</td><td>0.0</td><td>null</td><td>null</td><td>null</td><td>null</td><td>null</td><td>null</td><td>8.0</td><td>null</td><td>null</td><td>null</td><td>null</td><td>null</td><td>null</td><td>null</td><td>null</td><td>null</td><td>null</td><td>10.0</td><td>&hellip;</td><td>null</td><td>null</td><td>null</td><td>null</td><td>null</td><td>0.0</td><td>null</td><td>null</td><td>null</td><td>null</td><td>null</td><td>null</td><td>null</td><td>null</td><td>null</td><td>null</td><td>null</td><td>null</td><td>null</td><td>null</td><td>null</td><td>null</td><td>null</td><td>null</td><td>null</td><td>null</td><td>null</td><td>null</td><td>null</td><td>8.0</td><td>null</td><td>0.0</td><td>null</td><td>null</td><td>null</td><td>9.0</td><td>null</td></tr><tr><td>&quot;xxxHOLiC Movie: Manatsu no Yor…</td><td>null</td><td>null</td><td>null</td><td>null</td><td>8.0</td><td>null</td><td>null</td><td>null</td><td>null</td><td>null</td><td>null</td><td>null</td><td>null</td><td>null</td><td>null</td><td>null</td><td>null</td><td>0.0</td><td>null</td><td>null</td><td>null</td><td>null</td><td>null</td><td>null</td><td>8.0</td><td>null</td><td>null</td><td>null</td><td>null</td><td>null</td><td>null</td><td>null</td><td>null</td><td>null</td><td>null</td><td>10.0</td><td>&hellip;</td><td>null</td><td>null</td><td>null</td><td>null</td><td>null</td><td>null</td><td>null</td><td>null</td><td>null</td><td>null</td><td>null</td><td>null</td><td>null</td><td>null</td><td>null</td><td>null</td><td>null</td><td>null</td><td>null</td><td>null</td><td>null</td><td>null</td><td>null</td><td>null</td><td>null</td><td>null</td><td>null</td><td>null</td><td>null</td><td>null</td><td>null</td><td>null</td><td>null</td><td>null</td><td>null</td><td>null</td><td>null</td></tr><tr><td>&quot;xxxHOLiC Shunmuki&quot;</td><td>null</td><td>null</td><td>null</td><td>null</td><td>0.0</td><td>null</td><td>null</td><td>null</td><td>null</td><td>null</td><td>null</td><td>null</td><td>null</td><td>null</td><td>null</td><td>null</td><td>null</td><td>0.0</td><td>null</td><td>null</td><td>null</td><td>null</td><td>null</td><td>null</td><td>8.0</td><td>null</td><td>null</td><td>null</td><td>null</td><td>null</td><td>null</td><td>null</td><td>null</td><td>null</td><td>null</td><td>0.0</td><td>&hellip;</td><td>null</td><td>null</td><td>null</td><td>null</td><td>null</td><td>null</td><td>null</td><td>null</td><td>null</td><td>null</td><td>null</td><td>null</td><td>null</td><td>null</td><td>null</td><td>null</td><td>null</td><td>null</td><td>null</td><td>null</td><td>null</td><td>null</td><td>null</td><td>null</td><td>null</td><td>null</td><td>null</td><td>null</td><td>null</td><td>null</td><td>null</td><td>null</td><td>null</td><td>null</td><td>null</td><td>null</td><td>null</td></tr><tr><td>&quot;ēlDLIVE&quot;</td><td>null</td><td>null</td><td>null</td><td>null</td><td>null</td><td>null</td><td>null</td><td>null</td><td>null</td><td>null</td><td>null</td><td>null</td><td>null</td><td>null</td><td>null</td><td>null</td><td>null</td><td>null</td><td>null</td><td>null</td><td>null</td><td>null</td><td>null</td><td>null</td><td>6.0</td><td>null</td><td>null</td><td>null</td><td>null</td><td>null</td><td>null</td><td>null</td><td>null</td><td>null</td><td>null</td><td>null</td><td>&hellip;</td><td>null</td><td>null</td><td>null</td><td>null</td><td>null</td><td>null</td><td>null</td><td>null</td><td>null</td><td>null</td><td>null</td><td>null</td><td>null</td><td>null</td><td>null</td><td>null</td><td>null</td><td>null</td><td>null</td><td>null</td><td>null</td><td>null</td><td>null</td><td>null</td><td>null</td><td>null</td><td>null</td><td>null</td><td>null</td><td>null</td><td>null</td><td>null</td><td>null</td><td>null</td><td>null</td><td>null</td><td>0.0</td></tr></tbody></table></div>"
      ],
      "text/plain": [
       "shape: (6_668, 108_710)\n",
       "┌─────────────┬─────────────┬─────────────┬────────────┬───┬──────┬────────┬──────────┬────────────┐\n",
       "│ title       ┆ ----phoebel ┆ ---L-AND-AM ┆ --AnimeBoy ┆ … ┆ zzvl ┆ zzz275 ┆ zzzcielo ┆ zzzzz-chan │\n",
       "│ ---         ┆ yn          ┆ E-4EV       ┆ --         ┆   ┆ ---  ┆ ---    ┆ ---      ┆ ---        │\n",
       "│ str         ┆ ---         ┆ ---         ┆ ---        ┆   ┆ str  ┆ f64    ┆ f64      ┆ f64        │\n",
       "│             ┆ str         ┆ str         ┆ f64        ┆   ┆      ┆        ┆          ┆            │\n",
       "╞═════════════╪═════════════╪═════════════╪════════════╪═══╪══════╪════════╪══════════╪════════════╡\n",
       "│ \"Bungaku    ┆ null        ┆ null        ┆ 0.0        ┆ … ┆ null ┆ null   ┆ null     ┆ null       │\n",
       "│ Shoujo\"     ┆             ┆             ┆            ┆   ┆      ┆        ┆          ┆            │\n",
       "│ Kyou no     ┆             ┆             ┆            ┆   ┆      ┆        ┆          ┆            │\n",
       "│ Oyats…      ┆             ┆             ┆            ┆   ┆      ┆        ┆          ┆            │\n",
       "│ \"Bungaku    ┆ null        ┆ null        ┆ 0.0        ┆ … ┆ null ┆ null   ┆ null     ┆ null       │\n",
       "│ Shoujo\"     ┆             ┆             ┆            ┆   ┆      ┆        ┆          ┆            │\n",
       "│ Memoire     ┆             ┆             ┆            ┆   ┆      ┆        ┆          ┆            │\n",
       "│ \"Bungaku    ┆ null        ┆ null        ┆ 6.0        ┆ … ┆ null ┆ null   ┆ null     ┆ null       │\n",
       "│ Shoujo\"     ┆             ┆             ┆            ┆   ┆      ┆        ┆          ┆            │\n",
       "│ Movie       ┆             ┆             ┆            ┆   ┆      ┆        ┆          ┆            │\n",
       "│ \"Eikou Naki ┆ null        ┆ null        ┆ null       ┆ … ┆ null ┆ null   ┆ null     ┆ null       │\n",
       "│ Tensai-tach ┆             ┆             ┆            ┆   ┆      ┆        ┆          ┆            │\n",
       "│ i\" Kara…    ┆             ┆             ┆            ┆   ┆      ┆        ┆          ┆            │\n",
       "│ \"Eiyuu\"     ┆ null        ┆ null        ┆ null       ┆ … ┆ null ┆ null   ┆ null     ┆ null       │\n",
       "│ Kaitai      ┆             ┆             ┆            ┆   ┆      ┆        ┆          ┆            │\n",
       "│ …           ┆ …           ┆ …           ┆ …          ┆ … ┆ …    ┆ …      ┆ …        ┆ …          │\n",
       "│ xxxHOLiC    ┆ null        ┆ null        ┆ null       ┆ … ┆ 0.0  ┆ null   ┆ 8.0      ┆ 9.0        │\n",
       "│ xxxHOLiC    ┆ null        ┆ null        ┆ null       ┆ … ┆ null ┆ null   ┆ 9.0      ┆ null       │\n",
       "│ Kei         ┆             ┆             ┆            ┆   ┆      ┆        ┆          ┆            │\n",
       "│ xxxHOLiC    ┆ null        ┆ null        ┆ null       ┆ … ┆ null ┆ null   ┆ null     ┆ null       │\n",
       "│ Movie:      ┆             ┆             ┆            ┆   ┆      ┆        ┆          ┆            │\n",
       "│ Manatsu no  ┆             ┆             ┆            ┆   ┆      ┆        ┆          ┆            │\n",
       "│ Yor…        ┆             ┆             ┆            ┆   ┆      ┆        ┆          ┆            │\n",
       "│ xxxHOLiC    ┆ null        ┆ null        ┆ null       ┆ … ┆ null ┆ null   ┆ null     ┆ null       │\n",
       "│ Shunmuki    ┆             ┆             ┆            ┆   ┆      ┆        ┆          ┆            │\n",
       "│ ēlDLIVE     ┆ null        ┆ null        ┆ null       ┆ … ┆ null ┆ null   ┆ null     ┆ 0.0        │\n",
       "└─────────────┴─────────────┴─────────────┴────────────┴───┴──────┴────────┴──────────┴────────────┘"
      ]
     },
     "execution_count": 7,
     "metadata": {},
     "output_type": "execute_result"
    }
   ],
   "source": [
    "animes_rated_by_users.fill_nan(0)"
   ]
  },
  {
   "cell_type": "code",
   "execution_count": 9,
   "metadata": {},
   "outputs": [],
   "source": [
    "animes_rated_by_users = animes_rated_by_users.fill_null(0)"
   ]
  },
  {
   "cell_type": "code",
   "execution_count": 10,
   "metadata": {},
   "outputs": [
    {
     "data": {
      "text/html": [
       "<div><style>\n",
       ".dataframe > thead > tr,\n",
       ".dataframe > tbody > tr {\n",
       "  text-align: right;\n",
       "  white-space: pre-wrap;\n",
       "}\n",
       "</style>\n",
       "<small>shape: (5, 108_710)</small><table border=\"1\" class=\"dataframe\"><thead><tr><th>title</th><th>----phoebelyn</th><th>---L-AND-AME-4EV</th><th>--AnimeBoy--</th><th>--Etsuko--</th><th>--FallenAngel--</th><th>--Kin--</th><th>--N--</th><th>--PHOENIX--</th><th>--RIE--</th><th>--Sc--</th><th>--Vaultkai101--</th><th>--Zelo--</th><th>--animeislife--</th><th>--ariste</th><th>--kitade--</th><th>--lilly--</th><th>--yukii</th><th>-0_o-</th><th>-3L1xiR-</th><th>-7</th><th>-A123</th><th>-ARCADIA</th><th>-ASF</th><th>-AWildLuke-</th><th>-Ackerman</th><th>-Adamu</th><th>-Aine-</th><th>-AkagiChan-</th><th>-Alberto-</th><th>-Alians-</th><th>-Alicia-San-</th><th>-Ally</th><th>-Alta-</th><th>-Alvein-</th><th>-Amaya--</th><th>-Anderty-</th><th>&hellip;</th><th>zwil</th><th>zwqase</th><th>zwr</th><th>zxcv</th><th>zxeleven</th><th>zxien</th><th>zxnno</th><th>zxr24rs</th><th>zxziMucca</th><th>zybactik</th><th>zybrnetic</th><th>zycloneb</th><th>zyexis</th><th>zyggin</th><th>zygi</th><th>zygimantas92</th><th>zyglarz</th><th>zyka_vyrus</th><th>zykeu</th><th>zykotic_</th><th>zyloric</th><th>zync</th><th>zyphore</th><th>zyzgen</th><th>zz-e</th><th>zz1crazyxx</th><th>zzedd</th><th>zzeldaxx7</th><th>zzeroparticle</th><th>zzganz</th><th>zzrorozz</th><th>zzs</th><th>zzshinzozz</th><th>zzvl</th><th>zzz275</th><th>zzzcielo</th><th>zzzzz-chan</th></tr><tr><td>str</td><td>str</td><td>str</td><td>f64</td><td>str</td><td>f64</td><td>f64</td><td>f64</td><td>str</td><td>f64</td><td>str</td><td>f64</td><td>f64</td><td>str</td><td>str</td><td>f64</td><td>str</td><td>str</td><td>f64</td><td>str</td><td>f64</td><td>f64</td><td>f64</td><td>str</td><td>f64</td><td>f64</td><td>f64</td><td>f64</td><td>f64</td><td>f64</td><td>f64</td><td>f64</td><td>f64</td><td>f64</td><td>f64</td><td>f64</td><td>f64</td><td>&hellip;</td><td>f64</td><td>f64</td><td>f64</td><td>f64</td><td>str</td><td>f64</td><td>f64</td><td>f64</td><td>f64</td><td>f64</td><td>f64</td><td>f64</td><td>f64</td><td>f64</td><td>f64</td><td>f64</td><td>f64</td><td>f64</td><td>f64</td><td>f64</td><td>f64</td><td>f64</td><td>f64</td><td>f64</td><td>f64</td><td>f64</td><td>f64</td><td>f64</td><td>f64</td><td>f64</td><td>f64</td><td>f64</td><td>f64</td><td>str</td><td>f64</td><td>f64</td><td>f64</td></tr></thead><tbody><tr><td>&quot;&quot;Bungaku Shoujo&quot; Kyou no Oyats…</td><td>null</td><td>null</td><td>0.0</td><td>null</td><td>0.0</td><td>0.0</td><td>0.0</td><td>null</td><td>0.0</td><td>null</td><td>0.0</td><td>0.0</td><td>null</td><td>null</td><td>9.0</td><td>null</td><td>null</td><td>0.0</td><td>null</td><td>0.0</td><td>0.0</td><td>0.0</td><td>null</td><td>0.0</td><td>0.0</td><td>0.0</td><td>0.0</td><td>0.0</td><td>0.0</td><td>0.0</td><td>0.0</td><td>0.0</td><td>0.0</td><td>0.0</td><td>0.0</td><td>0.0</td><td>&hellip;</td><td>0.0</td><td>0.0</td><td>0.0</td><td>0.0</td><td>null</td><td>0.0</td><td>0.0</td><td>0.0</td><td>0.0</td><td>0.0</td><td>0.0</td><td>0.0</td><td>0.0</td><td>0.0</td><td>8.0</td><td>0.0</td><td>0.0</td><td>0.0</td><td>0.0</td><td>0.0</td><td>0.0</td><td>0.0</td><td>0.0</td><td>0.0</td><td>0.0</td><td>0.0</td><td>0.0</td><td>0.0</td><td>0.0</td><td>0.0</td><td>0.0</td><td>0.0</td><td>0.0</td><td>null</td><td>0.0</td><td>0.0</td><td>0.0</td></tr><tr><td>&quot;&quot;Bungaku Shoujo&quot; Memoire&quot;</td><td>null</td><td>null</td><td>0.0</td><td>null</td><td>0.0</td><td>0.0</td><td>0.0</td><td>null</td><td>0.0</td><td>null</td><td>0.0</td><td>0.0</td><td>null</td><td>null</td><td>9.0</td><td>null</td><td>null</td><td>0.0</td><td>null</td><td>0.0</td><td>0.0</td><td>0.0</td><td>null</td><td>0.0</td><td>0.0</td><td>0.0</td><td>0.0</td><td>0.0</td><td>0.0</td><td>0.0</td><td>0.0</td><td>0.0</td><td>0.0</td><td>0.0</td><td>0.0</td><td>0.0</td><td>&hellip;</td><td>8.0</td><td>0.0</td><td>0.0</td><td>0.0</td><td>null</td><td>0.0</td><td>0.0</td><td>0.0</td><td>0.0</td><td>0.0</td><td>0.0</td><td>0.0</td><td>0.0</td><td>0.0</td><td>0.0</td><td>0.0</td><td>0.0</td><td>0.0</td><td>0.0</td><td>0.0</td><td>0.0</td><td>0.0</td><td>0.0</td><td>0.0</td><td>0.0</td><td>0.0</td><td>0.0</td><td>0.0</td><td>0.0</td><td>0.0</td><td>0.0</td><td>0.0</td><td>0.0</td><td>null</td><td>0.0</td><td>0.0</td><td>0.0</td></tr><tr><td>&quot;&quot;Bungaku Shoujo&quot; Movie&quot;</td><td>null</td><td>null</td><td>6.0</td><td>null</td><td>0.0</td><td>6.0</td><td>0.0</td><td>null</td><td>6.0</td><td>null</td><td>0.0</td><td>0.0</td><td>null</td><td>null</td><td>9.0</td><td>null</td><td>null</td><td>0.0</td><td>null</td><td>0.0</td><td>0.0</td><td>0.0</td><td>null</td><td>0.0</td><td>0.0</td><td>0.0</td><td>0.0</td><td>0.0</td><td>0.0</td><td>0.0</td><td>0.0</td><td>0.0</td><td>0.0</td><td>0.0</td><td>0.0</td><td>0.0</td><td>&hellip;</td><td>0.0</td><td>0.0</td><td>0.0</td><td>0.0</td><td>null</td><td>0.0</td><td>0.0</td><td>0.0</td><td>0.0</td><td>0.0</td><td>0.0</td><td>0.0</td><td>0.0</td><td>0.0</td><td>0.0</td><td>0.0</td><td>0.0</td><td>0.0</td><td>0.0</td><td>0.0</td><td>0.0</td><td>0.0</td><td>0.0</td><td>0.0</td><td>0.0</td><td>0.0</td><td>0.0</td><td>0.0</td><td>7.0</td><td>7.0</td><td>0.0</td><td>0.0</td><td>0.0</td><td>null</td><td>0.0</td><td>0.0</td><td>0.0</td></tr><tr><td>&quot;&quot;Eikou Naki Tensai-tachi&quot; Kara…</td><td>null</td><td>null</td><td>0.0</td><td>null</td><td>0.0</td><td>0.0</td><td>0.0</td><td>null</td><td>0.0</td><td>null</td><td>0.0</td><td>0.0</td><td>null</td><td>null</td><td>0.0</td><td>null</td><td>null</td><td>0.0</td><td>null</td><td>0.0</td><td>0.0</td><td>0.0</td><td>null</td><td>0.0</td><td>0.0</td><td>0.0</td><td>0.0</td><td>0.0</td><td>0.0</td><td>0.0</td><td>0.0</td><td>0.0</td><td>0.0</td><td>0.0</td><td>0.0</td><td>0.0</td><td>&hellip;</td><td>0.0</td><td>0.0</td><td>0.0</td><td>0.0</td><td>null</td><td>0.0</td><td>0.0</td><td>0.0</td><td>0.0</td><td>0.0</td><td>0.0</td><td>0.0</td><td>0.0</td><td>0.0</td><td>0.0</td><td>0.0</td><td>0.0</td><td>0.0</td><td>0.0</td><td>0.0</td><td>0.0</td><td>0.0</td><td>0.0</td><td>0.0</td><td>0.0</td><td>0.0</td><td>0.0</td><td>0.0</td><td>0.0</td><td>0.0</td><td>0.0</td><td>0.0</td><td>0.0</td><td>null</td><td>0.0</td><td>0.0</td><td>0.0</td></tr><tr><td>&quot;&quot;Eiyuu&quot; Kaitai&quot;</td><td>null</td><td>null</td><td>0.0</td><td>null</td><td>0.0</td><td>0.0</td><td>0.0</td><td>null</td><td>0.0</td><td>null</td><td>0.0</td><td>0.0</td><td>null</td><td>null</td><td>0.0</td><td>null</td><td>null</td><td>0.0</td><td>null</td><td>0.0</td><td>0.0</td><td>0.0</td><td>null</td><td>0.0</td><td>0.0</td><td>0.0</td><td>0.0</td><td>0.0</td><td>0.0</td><td>0.0</td><td>0.0</td><td>0.0</td><td>0.0</td><td>0.0</td><td>0.0</td><td>0.0</td><td>&hellip;</td><td>0.0</td><td>0.0</td><td>0.0</td><td>0.0</td><td>null</td><td>0.0</td><td>0.0</td><td>0.0</td><td>0.0</td><td>0.0</td><td>0.0</td><td>0.0</td><td>0.0</td><td>0.0</td><td>0.0</td><td>0.0</td><td>0.0</td><td>0.0</td><td>0.0</td><td>0.0</td><td>0.0</td><td>0.0</td><td>0.0</td><td>0.0</td><td>0.0</td><td>0.0</td><td>0.0</td><td>0.0</td><td>0.0</td><td>0.0</td><td>0.0</td><td>0.0</td><td>0.0</td><td>null</td><td>0.0</td><td>0.0</td><td>0.0</td></tr></tbody></table></div>"
      ],
      "text/plain": [
       "shape: (5, 108_710)\n",
       "┌─────────────┬─────────────┬─────────────┬────────────┬───┬──────┬────────┬──────────┬────────────┐\n",
       "│ title       ┆ ----phoebel ┆ ---L-AND-AM ┆ --AnimeBoy ┆ … ┆ zzvl ┆ zzz275 ┆ zzzcielo ┆ zzzzz-chan │\n",
       "│ ---         ┆ yn          ┆ E-4EV       ┆ --         ┆   ┆ ---  ┆ ---    ┆ ---      ┆ ---        │\n",
       "│ str         ┆ ---         ┆ ---         ┆ ---        ┆   ┆ str  ┆ f64    ┆ f64      ┆ f64        │\n",
       "│             ┆ str         ┆ str         ┆ f64        ┆   ┆      ┆        ┆          ┆            │\n",
       "╞═════════════╪═════════════╪═════════════╪════════════╪═══╪══════╪════════╪══════════╪════════════╡\n",
       "│ \"Bungaku    ┆ null        ┆ null        ┆ 0.0        ┆ … ┆ null ┆ 0.0    ┆ 0.0      ┆ 0.0        │\n",
       "│ Shoujo\"     ┆             ┆             ┆            ┆   ┆      ┆        ┆          ┆            │\n",
       "│ Kyou no     ┆             ┆             ┆            ┆   ┆      ┆        ┆          ┆            │\n",
       "│ Oyats…      ┆             ┆             ┆            ┆   ┆      ┆        ┆          ┆            │\n",
       "│ \"Bungaku    ┆ null        ┆ null        ┆ 0.0        ┆ … ┆ null ┆ 0.0    ┆ 0.0      ┆ 0.0        │\n",
       "│ Shoujo\"     ┆             ┆             ┆            ┆   ┆      ┆        ┆          ┆            │\n",
       "│ Memoire     ┆             ┆             ┆            ┆   ┆      ┆        ┆          ┆            │\n",
       "│ \"Bungaku    ┆ null        ┆ null        ┆ 6.0        ┆ … ┆ null ┆ 0.0    ┆ 0.0      ┆ 0.0        │\n",
       "│ Shoujo\"     ┆             ┆             ┆            ┆   ┆      ┆        ┆          ┆            │\n",
       "│ Movie       ┆             ┆             ┆            ┆   ┆      ┆        ┆          ┆            │\n",
       "│ \"Eikou Naki ┆ null        ┆ null        ┆ 0.0        ┆ … ┆ null ┆ 0.0    ┆ 0.0      ┆ 0.0        │\n",
       "│ Tensai-tach ┆             ┆             ┆            ┆   ┆      ┆        ┆          ┆            │\n",
       "│ i\" Kara…    ┆             ┆             ┆            ┆   ┆      ┆        ┆          ┆            │\n",
       "│ \"Eiyuu\"     ┆ null        ┆ null        ┆ 0.0        ┆ … ┆ null ┆ 0.0    ┆ 0.0      ┆ 0.0        │\n",
       "│ Kaitai      ┆             ┆             ┆            ┆   ┆      ┆        ┆          ┆            │\n",
       "└─────────────┴─────────────┴─────────────┴────────────┴───┴──────┴────────┴──────────┴────────────┘"
      ]
     },
     "execution_count": 10,
     "metadata": {},
     "output_type": "execute_result"
    }
   ],
   "source": [
    "animes_rated_by_users.head()"
   ]
  },
  {
   "cell_type": "code",
   "execution_count": 12,
   "metadata": {},
   "outputs": [
    {
     "data": {
      "text/html": [
       "<div><style>\n",
       ".dataframe > thead > tr,\n",
       ".dataframe > tbody > tr {\n",
       "  text-align: right;\n",
       "  white-space: pre-wrap;\n",
       "}\n",
       "</style>\n",
       "<small>shape: (6_668, 108_710)</small><table border=\"1\" class=\"dataframe\"><thead><tr><th>title</th><th>----phoebelyn</th><th>---L-AND-AME-4EV</th><th>--AnimeBoy--</th><th>--Etsuko--</th><th>--FallenAngel--</th><th>--Kin--</th><th>--N--</th><th>--PHOENIX--</th><th>--RIE--</th><th>--Sc--</th><th>--Vaultkai101--</th><th>--Zelo--</th><th>--animeislife--</th><th>--ariste</th><th>--kitade--</th><th>--lilly--</th><th>--yukii</th><th>-0_o-</th><th>-3L1xiR-</th><th>-7</th><th>-A123</th><th>-ARCADIA</th><th>-ASF</th><th>-AWildLuke-</th><th>-Ackerman</th><th>-Adamu</th><th>-Aine-</th><th>-AkagiChan-</th><th>-Alberto-</th><th>-Alians-</th><th>-Alicia-San-</th><th>-Ally</th><th>-Alta-</th><th>-Alvein-</th><th>-Amaya--</th><th>-Anderty-</th><th>&hellip;</th><th>zwil</th><th>zwqase</th><th>zwr</th><th>zxcv</th><th>zxeleven</th><th>zxien</th><th>zxnno</th><th>zxr24rs</th><th>zxziMucca</th><th>zybactik</th><th>zybrnetic</th><th>zycloneb</th><th>zyexis</th><th>zyggin</th><th>zygi</th><th>zygimantas92</th><th>zyglarz</th><th>zyka_vyrus</th><th>zykeu</th><th>zykotic_</th><th>zyloric</th><th>zync</th><th>zyphore</th><th>zyzgen</th><th>zz-e</th><th>zz1crazyxx</th><th>zzedd</th><th>zzeldaxx7</th><th>zzeroparticle</th><th>zzganz</th><th>zzrorozz</th><th>zzs</th><th>zzshinzozz</th><th>zzvl</th><th>zzz275</th><th>zzzcielo</th><th>zzzzz-chan</th></tr><tr><td>str</td><td>str</td><td>str</td><td>f64</td><td>str</td><td>f64</td><td>f64</td><td>f64</td><td>str</td><td>f64</td><td>str</td><td>f64</td><td>f64</td><td>str</td><td>str</td><td>f64</td><td>str</td><td>str</td><td>f64</td><td>str</td><td>f64</td><td>f64</td><td>f64</td><td>str</td><td>f64</td><td>f64</td><td>f64</td><td>f64</td><td>f64</td><td>f64</td><td>f64</td><td>f64</td><td>f64</td><td>f64</td><td>f64</td><td>f64</td><td>f64</td><td>&hellip;</td><td>f64</td><td>f64</td><td>f64</td><td>f64</td><td>str</td><td>f64</td><td>f64</td><td>f64</td><td>f64</td><td>f64</td><td>f64</td><td>f64</td><td>f64</td><td>f64</td><td>f64</td><td>f64</td><td>f64</td><td>f64</td><td>f64</td><td>f64</td><td>f64</td><td>f64</td><td>f64</td><td>f64</td><td>f64</td><td>f64</td><td>f64</td><td>f64</td><td>f64</td><td>f64</td><td>f64</td><td>f64</td><td>f64</td><td>str</td><td>f64</td><td>f64</td><td>f64</td></tr></thead><tbody><tr><td>&quot;&quot;Bungaku Shoujo&quot; Kyou no Oyats…</td><td>null</td><td>null</td><td>0.0</td><td>null</td><td>0.0</td><td>0.0</td><td>0.0</td><td>null</td><td>0.0</td><td>null</td><td>0.0</td><td>0.0</td><td>null</td><td>null</td><td>9.0</td><td>null</td><td>null</td><td>0.0</td><td>null</td><td>0.0</td><td>0.0</td><td>0.0</td><td>null</td><td>0.0</td><td>0.0</td><td>0.0</td><td>0.0</td><td>0.0</td><td>0.0</td><td>0.0</td><td>0.0</td><td>0.0</td><td>0.0</td><td>0.0</td><td>0.0</td><td>0.0</td><td>&hellip;</td><td>0.0</td><td>0.0</td><td>0.0</td><td>0.0</td><td>null</td><td>0.0</td><td>0.0</td><td>0.0</td><td>0.0</td><td>0.0</td><td>0.0</td><td>0.0</td><td>0.0</td><td>0.0</td><td>8.0</td><td>0.0</td><td>0.0</td><td>0.0</td><td>0.0</td><td>0.0</td><td>0.0</td><td>0.0</td><td>0.0</td><td>0.0</td><td>0.0</td><td>0.0</td><td>0.0</td><td>0.0</td><td>0.0</td><td>0.0</td><td>0.0</td><td>0.0</td><td>0.0</td><td>null</td><td>0.0</td><td>0.0</td><td>0.0</td></tr><tr><td>&quot;&quot;Bungaku Shoujo&quot; Memoire&quot;</td><td>null</td><td>null</td><td>0.0</td><td>null</td><td>0.0</td><td>0.0</td><td>0.0</td><td>null</td><td>0.0</td><td>null</td><td>0.0</td><td>0.0</td><td>null</td><td>null</td><td>9.0</td><td>null</td><td>null</td><td>0.0</td><td>null</td><td>0.0</td><td>0.0</td><td>0.0</td><td>null</td><td>0.0</td><td>0.0</td><td>0.0</td><td>0.0</td><td>0.0</td><td>0.0</td><td>0.0</td><td>0.0</td><td>0.0</td><td>0.0</td><td>0.0</td><td>0.0</td><td>0.0</td><td>&hellip;</td><td>8.0</td><td>0.0</td><td>0.0</td><td>0.0</td><td>null</td><td>0.0</td><td>0.0</td><td>0.0</td><td>0.0</td><td>0.0</td><td>0.0</td><td>0.0</td><td>0.0</td><td>0.0</td><td>0.0</td><td>0.0</td><td>0.0</td><td>0.0</td><td>0.0</td><td>0.0</td><td>0.0</td><td>0.0</td><td>0.0</td><td>0.0</td><td>0.0</td><td>0.0</td><td>0.0</td><td>0.0</td><td>0.0</td><td>0.0</td><td>0.0</td><td>0.0</td><td>0.0</td><td>null</td><td>0.0</td><td>0.0</td><td>0.0</td></tr><tr><td>&quot;&quot;Bungaku Shoujo&quot; Movie&quot;</td><td>null</td><td>null</td><td>6.0</td><td>null</td><td>0.0</td><td>6.0</td><td>0.0</td><td>null</td><td>6.0</td><td>null</td><td>0.0</td><td>0.0</td><td>null</td><td>null</td><td>9.0</td><td>null</td><td>null</td><td>0.0</td><td>null</td><td>0.0</td><td>0.0</td><td>0.0</td><td>null</td><td>0.0</td><td>0.0</td><td>0.0</td><td>0.0</td><td>0.0</td><td>0.0</td><td>0.0</td><td>0.0</td><td>0.0</td><td>0.0</td><td>0.0</td><td>0.0</td><td>0.0</td><td>&hellip;</td><td>0.0</td><td>0.0</td><td>0.0</td><td>0.0</td><td>null</td><td>0.0</td><td>0.0</td><td>0.0</td><td>0.0</td><td>0.0</td><td>0.0</td><td>0.0</td><td>0.0</td><td>0.0</td><td>0.0</td><td>0.0</td><td>0.0</td><td>0.0</td><td>0.0</td><td>0.0</td><td>0.0</td><td>0.0</td><td>0.0</td><td>0.0</td><td>0.0</td><td>0.0</td><td>0.0</td><td>0.0</td><td>7.0</td><td>7.0</td><td>0.0</td><td>0.0</td><td>0.0</td><td>null</td><td>0.0</td><td>0.0</td><td>0.0</td></tr><tr><td>&quot;&quot;Eikou Naki Tensai-tachi&quot; Kara…</td><td>null</td><td>null</td><td>0.0</td><td>null</td><td>0.0</td><td>0.0</td><td>0.0</td><td>null</td><td>0.0</td><td>null</td><td>0.0</td><td>0.0</td><td>null</td><td>null</td><td>0.0</td><td>null</td><td>null</td><td>0.0</td><td>null</td><td>0.0</td><td>0.0</td><td>0.0</td><td>null</td><td>0.0</td><td>0.0</td><td>0.0</td><td>0.0</td><td>0.0</td><td>0.0</td><td>0.0</td><td>0.0</td><td>0.0</td><td>0.0</td><td>0.0</td><td>0.0</td><td>0.0</td><td>&hellip;</td><td>0.0</td><td>0.0</td><td>0.0</td><td>0.0</td><td>null</td><td>0.0</td><td>0.0</td><td>0.0</td><td>0.0</td><td>0.0</td><td>0.0</td><td>0.0</td><td>0.0</td><td>0.0</td><td>0.0</td><td>0.0</td><td>0.0</td><td>0.0</td><td>0.0</td><td>0.0</td><td>0.0</td><td>0.0</td><td>0.0</td><td>0.0</td><td>0.0</td><td>0.0</td><td>0.0</td><td>0.0</td><td>0.0</td><td>0.0</td><td>0.0</td><td>0.0</td><td>0.0</td><td>null</td><td>0.0</td><td>0.0</td><td>0.0</td></tr><tr><td>&quot;&quot;Eiyuu&quot; Kaitai&quot;</td><td>null</td><td>null</td><td>0.0</td><td>null</td><td>0.0</td><td>0.0</td><td>0.0</td><td>null</td><td>0.0</td><td>null</td><td>0.0</td><td>0.0</td><td>null</td><td>null</td><td>0.0</td><td>null</td><td>null</td><td>0.0</td><td>null</td><td>0.0</td><td>0.0</td><td>0.0</td><td>null</td><td>0.0</td><td>0.0</td><td>0.0</td><td>0.0</td><td>0.0</td><td>0.0</td><td>0.0</td><td>0.0</td><td>0.0</td><td>0.0</td><td>0.0</td><td>0.0</td><td>0.0</td><td>&hellip;</td><td>0.0</td><td>0.0</td><td>0.0</td><td>0.0</td><td>null</td><td>0.0</td><td>0.0</td><td>0.0</td><td>0.0</td><td>0.0</td><td>0.0</td><td>0.0</td><td>0.0</td><td>0.0</td><td>0.0</td><td>0.0</td><td>0.0</td><td>0.0</td><td>0.0</td><td>0.0</td><td>0.0</td><td>0.0</td><td>0.0</td><td>0.0</td><td>0.0</td><td>0.0</td><td>0.0</td><td>0.0</td><td>0.0</td><td>0.0</td><td>0.0</td><td>0.0</td><td>0.0</td><td>null</td><td>0.0</td><td>0.0</td><td>0.0</td></tr><tr><td>&hellip;</td><td>&hellip;</td><td>&hellip;</td><td>&hellip;</td><td>&hellip;</td><td>&hellip;</td><td>&hellip;</td><td>&hellip;</td><td>&hellip;</td><td>&hellip;</td><td>&hellip;</td><td>&hellip;</td><td>&hellip;</td><td>&hellip;</td><td>&hellip;</td><td>&hellip;</td><td>&hellip;</td><td>&hellip;</td><td>&hellip;</td><td>&hellip;</td><td>&hellip;</td><td>&hellip;</td><td>&hellip;</td><td>&hellip;</td><td>&hellip;</td><td>&hellip;</td><td>&hellip;</td><td>&hellip;</td><td>&hellip;</td><td>&hellip;</td><td>&hellip;</td><td>&hellip;</td><td>&hellip;</td><td>&hellip;</td><td>&hellip;</td><td>&hellip;</td><td>&hellip;</td><td>&hellip;</td><td>&hellip;</td><td>&hellip;</td><td>&hellip;</td><td>&hellip;</td><td>&hellip;</td><td>&hellip;</td><td>&hellip;</td><td>&hellip;</td><td>&hellip;</td><td>&hellip;</td><td>&hellip;</td><td>&hellip;</td><td>&hellip;</td><td>&hellip;</td><td>&hellip;</td><td>&hellip;</td><td>&hellip;</td><td>&hellip;</td><td>&hellip;</td><td>&hellip;</td><td>&hellip;</td><td>&hellip;</td><td>&hellip;</td><td>&hellip;</td><td>&hellip;</td><td>&hellip;</td><td>&hellip;</td><td>&hellip;</td><td>&hellip;</td><td>&hellip;</td><td>&hellip;</td><td>&hellip;</td><td>&hellip;</td><td>&hellip;</td><td>&hellip;</td><td>&hellip;</td><td>&hellip;</td></tr><tr><td>&quot;xxxHOLiC&quot;</td><td>null</td><td>null</td><td>0.0</td><td>null</td><td>9.0</td><td>0.0</td><td>0.0</td><td>null</td><td>0.0</td><td>null</td><td>0.0</td><td>0.0</td><td>null</td><td>&quot;0.0&quot;</td><td>0.0</td><td>null</td><td>&quot;0.0&quot;</td><td>0.0</td><td>null</td><td>0.0</td><td>0.0</td><td>0.0</td><td>null</td><td>0.0</td><td>8.0</td><td>0.0</td><td>0.0</td><td>0.0</td><td>0.0</td><td>0.0</td><td>0.0</td><td>0.0</td><td>0.0</td><td>0.0</td><td>0.0</td><td>10.0</td><td>&hellip;</td><td>8.0</td><td>0.0</td><td>0.0</td><td>0.0</td><td>null</td><td>0.0</td><td>0.0</td><td>7.0</td><td>0.0</td><td>0.0</td><td>0.0</td><td>0.0</td><td>0.0</td><td>0.0</td><td>0.0</td><td>0.0</td><td>0.0</td><td>0.0</td><td>0.0</td><td>0.0</td><td>0.0</td><td>0.0</td><td>0.0</td><td>0.0</td><td>0.0</td><td>0.0</td><td>0.0</td><td>0.0</td><td>0.0</td><td>7.0</td><td>0.0</td><td>0.0</td><td>0.0</td><td>&quot;0.0&quot;</td><td>0.0</td><td>8.0</td><td>9.0</td></tr><tr><td>&quot;xxxHOLiC Kei&quot;</td><td>null</td><td>null</td><td>0.0</td><td>null</td><td>9.0</td><td>0.0</td><td>0.0</td><td>null</td><td>0.0</td><td>null</td><td>0.0</td><td>0.0</td><td>null</td><td>null</td><td>0.0</td><td>null</td><td>null</td><td>0.0</td><td>null</td><td>0.0</td><td>0.0</td><td>0.0</td><td>null</td><td>0.0</td><td>8.0</td><td>0.0</td><td>0.0</td><td>0.0</td><td>0.0</td><td>0.0</td><td>0.0</td><td>0.0</td><td>0.0</td><td>0.0</td><td>0.0</td><td>10.0</td><td>&hellip;</td><td>0.0</td><td>0.0</td><td>0.0</td><td>0.0</td><td>null</td><td>0.0</td><td>0.0</td><td>0.0</td><td>0.0</td><td>0.0</td><td>0.0</td><td>0.0</td><td>0.0</td><td>0.0</td><td>0.0</td><td>0.0</td><td>0.0</td><td>0.0</td><td>0.0</td><td>0.0</td><td>0.0</td><td>0.0</td><td>0.0</td><td>0.0</td><td>0.0</td><td>0.0</td><td>0.0</td><td>0.0</td><td>0.0</td><td>8.0</td><td>0.0</td><td>0.0</td><td>0.0</td><td>null</td><td>0.0</td><td>9.0</td><td>0.0</td></tr><tr><td>&quot;xxxHOLiC Movie: Manatsu no Yor…</td><td>null</td><td>null</td><td>0.0</td><td>null</td><td>8.0</td><td>0.0</td><td>0.0</td><td>null</td><td>0.0</td><td>null</td><td>0.0</td><td>0.0</td><td>null</td><td>null</td><td>0.0</td><td>null</td><td>null</td><td>0.0</td><td>null</td><td>0.0</td><td>0.0</td><td>0.0</td><td>null</td><td>0.0</td><td>8.0</td><td>0.0</td><td>0.0</td><td>0.0</td><td>0.0</td><td>0.0</td><td>0.0</td><td>0.0</td><td>0.0</td><td>0.0</td><td>0.0</td><td>10.0</td><td>&hellip;</td><td>0.0</td><td>0.0</td><td>0.0</td><td>0.0</td><td>null</td><td>0.0</td><td>0.0</td><td>0.0</td><td>0.0</td><td>0.0</td><td>0.0</td><td>0.0</td><td>0.0</td><td>0.0</td><td>0.0</td><td>0.0</td><td>0.0</td><td>0.0</td><td>0.0</td><td>0.0</td><td>0.0</td><td>0.0</td><td>0.0</td><td>0.0</td><td>0.0</td><td>0.0</td><td>0.0</td><td>0.0</td><td>0.0</td><td>0.0</td><td>0.0</td><td>0.0</td><td>0.0</td><td>null</td><td>0.0</td><td>0.0</td><td>0.0</td></tr><tr><td>&quot;xxxHOLiC Shunmuki&quot;</td><td>null</td><td>null</td><td>0.0</td><td>null</td><td>0.0</td><td>0.0</td><td>0.0</td><td>null</td><td>0.0</td><td>null</td><td>0.0</td><td>0.0</td><td>null</td><td>null</td><td>0.0</td><td>null</td><td>null</td><td>0.0</td><td>null</td><td>0.0</td><td>0.0</td><td>0.0</td><td>null</td><td>0.0</td><td>8.0</td><td>0.0</td><td>0.0</td><td>0.0</td><td>0.0</td><td>0.0</td><td>0.0</td><td>0.0</td><td>0.0</td><td>0.0</td><td>0.0</td><td>0.0</td><td>&hellip;</td><td>0.0</td><td>0.0</td><td>0.0</td><td>0.0</td><td>null</td><td>0.0</td><td>0.0</td><td>0.0</td><td>0.0</td><td>0.0</td><td>0.0</td><td>0.0</td><td>0.0</td><td>0.0</td><td>0.0</td><td>0.0</td><td>0.0</td><td>0.0</td><td>0.0</td><td>0.0</td><td>0.0</td><td>0.0</td><td>0.0</td><td>0.0</td><td>0.0</td><td>0.0</td><td>0.0</td><td>0.0</td><td>0.0</td><td>0.0</td><td>0.0</td><td>0.0</td><td>0.0</td><td>null</td><td>0.0</td><td>0.0</td><td>0.0</td></tr><tr><td>&quot;ēlDLIVE&quot;</td><td>null</td><td>null</td><td>0.0</td><td>null</td><td>0.0</td><td>0.0</td><td>0.0</td><td>null</td><td>0.0</td><td>null</td><td>0.0</td><td>0.0</td><td>null</td><td>null</td><td>0.0</td><td>null</td><td>null</td><td>0.0</td><td>null</td><td>0.0</td><td>0.0</td><td>0.0</td><td>null</td><td>0.0</td><td>6.0</td><td>0.0</td><td>0.0</td><td>0.0</td><td>0.0</td><td>0.0</td><td>0.0</td><td>0.0</td><td>0.0</td><td>0.0</td><td>0.0</td><td>0.0</td><td>&hellip;</td><td>0.0</td><td>0.0</td><td>0.0</td><td>0.0</td><td>null</td><td>0.0</td><td>0.0</td><td>0.0</td><td>0.0</td><td>0.0</td><td>0.0</td><td>0.0</td><td>0.0</td><td>0.0</td><td>0.0</td><td>0.0</td><td>0.0</td><td>0.0</td><td>0.0</td><td>0.0</td><td>0.0</td><td>0.0</td><td>0.0</td><td>0.0</td><td>0.0</td><td>0.0</td><td>0.0</td><td>0.0</td><td>0.0</td><td>0.0</td><td>0.0</td><td>0.0</td><td>0.0</td><td>null</td><td>0.0</td><td>0.0</td><td>0.0</td></tr></tbody></table></div>"
      ],
      "text/plain": [
       "shape: (6_668, 108_710)\n",
       "┌─────────────┬─────────────┬─────────────┬────────────┬───┬──────┬────────┬──────────┬────────────┐\n",
       "│ title       ┆ ----phoebel ┆ ---L-AND-AM ┆ --AnimeBoy ┆ … ┆ zzvl ┆ zzz275 ┆ zzzcielo ┆ zzzzz-chan │\n",
       "│ ---         ┆ yn          ┆ E-4EV       ┆ --         ┆   ┆ ---  ┆ ---    ┆ ---      ┆ ---        │\n",
       "│ str         ┆ ---         ┆ ---         ┆ ---        ┆   ┆ str  ┆ f64    ┆ f64      ┆ f64        │\n",
       "│             ┆ str         ┆ str         ┆ f64        ┆   ┆      ┆        ┆          ┆            │\n",
       "╞═════════════╪═════════════╪═════════════╪════════════╪═══╪══════╪════════╪══════════╪════════════╡\n",
       "│ \"Bungaku    ┆ null        ┆ null        ┆ 0.0        ┆ … ┆ null ┆ 0.0    ┆ 0.0      ┆ 0.0        │\n",
       "│ Shoujo\"     ┆             ┆             ┆            ┆   ┆      ┆        ┆          ┆            │\n",
       "│ Kyou no     ┆             ┆             ┆            ┆   ┆      ┆        ┆          ┆            │\n",
       "│ Oyats…      ┆             ┆             ┆            ┆   ┆      ┆        ┆          ┆            │\n",
       "│ \"Bungaku    ┆ null        ┆ null        ┆ 0.0        ┆ … ┆ null ┆ 0.0    ┆ 0.0      ┆ 0.0        │\n",
       "│ Shoujo\"     ┆             ┆             ┆            ┆   ┆      ┆        ┆          ┆            │\n",
       "│ Memoire     ┆             ┆             ┆            ┆   ┆      ┆        ┆          ┆            │\n",
       "│ \"Bungaku    ┆ null        ┆ null        ┆ 6.0        ┆ … ┆ null ┆ 0.0    ┆ 0.0      ┆ 0.0        │\n",
       "│ Shoujo\"     ┆             ┆             ┆            ┆   ┆      ┆        ┆          ┆            │\n",
       "│ Movie       ┆             ┆             ┆            ┆   ┆      ┆        ┆          ┆            │\n",
       "│ \"Eikou Naki ┆ null        ┆ null        ┆ 0.0        ┆ … ┆ null ┆ 0.0    ┆ 0.0      ┆ 0.0        │\n",
       "│ Tensai-tach ┆             ┆             ┆            ┆   ┆      ┆        ┆          ┆            │\n",
       "│ i\" Kara…    ┆             ┆             ┆            ┆   ┆      ┆        ┆          ┆            │\n",
       "│ \"Eiyuu\"     ┆ null        ┆ null        ┆ 0.0        ┆ … ┆ null ┆ 0.0    ┆ 0.0      ┆ 0.0        │\n",
       "│ Kaitai      ┆             ┆             ┆            ┆   ┆      ┆        ┆          ┆            │\n",
       "│ …           ┆ …           ┆ …           ┆ …          ┆ … ┆ …    ┆ …      ┆ …        ┆ …          │\n",
       "│ xxxHOLiC    ┆ null        ┆ null        ┆ 0.0        ┆ … ┆ 0.0  ┆ 0.0    ┆ 8.0      ┆ 9.0        │\n",
       "│ xxxHOLiC    ┆ null        ┆ null        ┆ 0.0        ┆ … ┆ null ┆ 0.0    ┆ 9.0      ┆ 0.0        │\n",
       "│ Kei         ┆             ┆             ┆            ┆   ┆      ┆        ┆          ┆            │\n",
       "│ xxxHOLiC    ┆ null        ┆ null        ┆ 0.0        ┆ … ┆ null ┆ 0.0    ┆ 0.0      ┆ 0.0        │\n",
       "│ Movie:      ┆             ┆             ┆            ┆   ┆      ┆        ┆          ┆            │\n",
       "│ Manatsu no  ┆             ┆             ┆            ┆   ┆      ┆        ┆          ┆            │\n",
       "│ Yor…        ┆             ┆             ┆            ┆   ┆      ┆        ┆          ┆            │\n",
       "│ xxxHOLiC    ┆ null        ┆ null        ┆ 0.0        ┆ … ┆ null ┆ 0.0    ┆ 0.0      ┆ 0.0        │\n",
       "│ Shunmuki    ┆             ┆             ┆            ┆   ┆      ┆        ┆          ┆            │\n",
       "│ ēlDLIVE     ┆ null        ┆ null        ┆ 0.0        ┆ … ┆ null ┆ 0.0    ┆ 0.0      ┆ 0.0        │\n",
       "└─────────────┴─────────────┴─────────────┴────────────┴───┴──────┴────────┴──────────┴────────────┘"
      ]
     },
     "execution_count": 12,
     "metadata": {},
     "output_type": "execute_result"
    }
   ],
   "source": [
    "animes_rated_by_users.with_columns(pl.col(pl.String).replace('null', 0))"
   ]
  },
  {
   "cell_type": "code",
   "execution_count": 25,
   "metadata": {},
   "outputs": [
    {
     "ename": "",
     "evalue": "",
     "output_type": "error",
     "traceback": [
      "\u001b[1;31mThe Kernel crashed while executing code in the current cell or a previous cell. \n",
      "\u001b[1;31mPlease review the code in the cell(s) to identify a possible cause of the failure. \n",
      "\u001b[1;31mClick <a href='https://aka.ms/vscodeJupyterKernelCrash'>here</a> for more info. \n",
      "\u001b[1;31mView Jupyter <a href='command:jupyter.viewOutput'>log</a> for further details."
     ]
    }
   ],
   "source": [
    "# how can change str columns to f64\n",
    "animes_rated_by_users.with_columns(pl.col(pl.String).replace('null', '0'))"
   ]
  },
  {
   "cell_type": "code",
   "execution_count": 15,
   "metadata": {},
   "outputs": [
    {
     "data": {
      "text/html": [
       "<div><style>\n",
       ".dataframe > thead > tr,\n",
       ".dataframe > tbody > tr {\n",
       "  text-align: right;\n",
       "  white-space: pre-wrap;\n",
       "}\n",
       "</style>\n",
       "<small>shape: (5, 108_710)</small><table border=\"1\" class=\"dataframe\"><thead><tr><th>title</th><th>----phoebelyn</th><th>---L-AND-AME-4EV</th><th>--AnimeBoy--</th><th>--Etsuko--</th><th>--FallenAngel--</th><th>--Kin--</th><th>--N--</th><th>--PHOENIX--</th><th>--RIE--</th><th>--Sc--</th><th>--Vaultkai101--</th><th>--Zelo--</th><th>--animeislife--</th><th>--ariste</th><th>--kitade--</th><th>--lilly--</th><th>--yukii</th><th>-0_o-</th><th>-3L1xiR-</th><th>-7</th><th>-A123</th><th>-ARCADIA</th><th>-ASF</th><th>-AWildLuke-</th><th>-Ackerman</th><th>-Adamu</th><th>-Aine-</th><th>-AkagiChan-</th><th>-Alberto-</th><th>-Alians-</th><th>-Alicia-San-</th><th>-Ally</th><th>-Alta-</th><th>-Alvein-</th><th>-Amaya--</th><th>-Anderty-</th><th>&hellip;</th><th>zwil</th><th>zwqase</th><th>zwr</th><th>zxcv</th><th>zxeleven</th><th>zxien</th><th>zxnno</th><th>zxr24rs</th><th>zxziMucca</th><th>zybactik</th><th>zybrnetic</th><th>zycloneb</th><th>zyexis</th><th>zyggin</th><th>zygi</th><th>zygimantas92</th><th>zyglarz</th><th>zyka_vyrus</th><th>zykeu</th><th>zykotic_</th><th>zyloric</th><th>zync</th><th>zyphore</th><th>zyzgen</th><th>zz-e</th><th>zz1crazyxx</th><th>zzedd</th><th>zzeldaxx7</th><th>zzeroparticle</th><th>zzganz</th><th>zzrorozz</th><th>zzs</th><th>zzshinzozz</th><th>zzvl</th><th>zzz275</th><th>zzzcielo</th><th>zzzzz-chan</th></tr><tr><td>str</td><td>str</td><td>str</td><td>f64</td><td>str</td><td>f64</td><td>f64</td><td>f64</td><td>str</td><td>f64</td><td>str</td><td>f64</td><td>f64</td><td>str</td><td>str</td><td>f64</td><td>str</td><td>str</td><td>f64</td><td>str</td><td>f64</td><td>f64</td><td>f64</td><td>str</td><td>f64</td><td>f64</td><td>f64</td><td>f64</td><td>f64</td><td>f64</td><td>f64</td><td>f64</td><td>f64</td><td>f64</td><td>f64</td><td>f64</td><td>f64</td><td>&hellip;</td><td>f64</td><td>f64</td><td>f64</td><td>f64</td><td>str</td><td>f64</td><td>f64</td><td>f64</td><td>f64</td><td>f64</td><td>f64</td><td>f64</td><td>f64</td><td>f64</td><td>f64</td><td>f64</td><td>f64</td><td>f64</td><td>f64</td><td>f64</td><td>f64</td><td>f64</td><td>f64</td><td>f64</td><td>f64</td><td>f64</td><td>f64</td><td>f64</td><td>f64</td><td>f64</td><td>f64</td><td>f64</td><td>f64</td><td>str</td><td>f64</td><td>f64</td><td>f64</td></tr></thead><tbody><tr><td>&quot;&quot;Bungaku Shoujo&quot; Kyou no Oyats…</td><td>null</td><td>null</td><td>0.0</td><td>null</td><td>0.0</td><td>0.0</td><td>0.0</td><td>null</td><td>0.0</td><td>null</td><td>0.0</td><td>0.0</td><td>null</td><td>null</td><td>9.0</td><td>null</td><td>null</td><td>0.0</td><td>null</td><td>0.0</td><td>0.0</td><td>0.0</td><td>null</td><td>0.0</td><td>0.0</td><td>0.0</td><td>0.0</td><td>0.0</td><td>0.0</td><td>0.0</td><td>0.0</td><td>0.0</td><td>0.0</td><td>0.0</td><td>0.0</td><td>0.0</td><td>&hellip;</td><td>0.0</td><td>0.0</td><td>0.0</td><td>0.0</td><td>null</td><td>0.0</td><td>0.0</td><td>0.0</td><td>0.0</td><td>0.0</td><td>0.0</td><td>0.0</td><td>0.0</td><td>0.0</td><td>8.0</td><td>0.0</td><td>0.0</td><td>0.0</td><td>0.0</td><td>0.0</td><td>0.0</td><td>0.0</td><td>0.0</td><td>0.0</td><td>0.0</td><td>0.0</td><td>0.0</td><td>0.0</td><td>0.0</td><td>0.0</td><td>0.0</td><td>0.0</td><td>0.0</td><td>null</td><td>0.0</td><td>0.0</td><td>0.0</td></tr><tr><td>&quot;&quot;Bungaku Shoujo&quot; Memoire&quot;</td><td>null</td><td>null</td><td>0.0</td><td>null</td><td>0.0</td><td>0.0</td><td>0.0</td><td>null</td><td>0.0</td><td>null</td><td>0.0</td><td>0.0</td><td>null</td><td>null</td><td>9.0</td><td>null</td><td>null</td><td>0.0</td><td>null</td><td>0.0</td><td>0.0</td><td>0.0</td><td>null</td><td>0.0</td><td>0.0</td><td>0.0</td><td>0.0</td><td>0.0</td><td>0.0</td><td>0.0</td><td>0.0</td><td>0.0</td><td>0.0</td><td>0.0</td><td>0.0</td><td>0.0</td><td>&hellip;</td><td>8.0</td><td>0.0</td><td>0.0</td><td>0.0</td><td>null</td><td>0.0</td><td>0.0</td><td>0.0</td><td>0.0</td><td>0.0</td><td>0.0</td><td>0.0</td><td>0.0</td><td>0.0</td><td>0.0</td><td>0.0</td><td>0.0</td><td>0.0</td><td>0.0</td><td>0.0</td><td>0.0</td><td>0.0</td><td>0.0</td><td>0.0</td><td>0.0</td><td>0.0</td><td>0.0</td><td>0.0</td><td>0.0</td><td>0.0</td><td>0.0</td><td>0.0</td><td>0.0</td><td>null</td><td>0.0</td><td>0.0</td><td>0.0</td></tr><tr><td>&quot;&quot;Bungaku Shoujo&quot; Movie&quot;</td><td>null</td><td>null</td><td>6.0</td><td>null</td><td>0.0</td><td>6.0</td><td>0.0</td><td>null</td><td>6.0</td><td>null</td><td>0.0</td><td>0.0</td><td>null</td><td>null</td><td>9.0</td><td>null</td><td>null</td><td>0.0</td><td>null</td><td>0.0</td><td>0.0</td><td>0.0</td><td>null</td><td>0.0</td><td>0.0</td><td>0.0</td><td>0.0</td><td>0.0</td><td>0.0</td><td>0.0</td><td>0.0</td><td>0.0</td><td>0.0</td><td>0.0</td><td>0.0</td><td>0.0</td><td>&hellip;</td><td>0.0</td><td>0.0</td><td>0.0</td><td>0.0</td><td>null</td><td>0.0</td><td>0.0</td><td>0.0</td><td>0.0</td><td>0.0</td><td>0.0</td><td>0.0</td><td>0.0</td><td>0.0</td><td>0.0</td><td>0.0</td><td>0.0</td><td>0.0</td><td>0.0</td><td>0.0</td><td>0.0</td><td>0.0</td><td>0.0</td><td>0.0</td><td>0.0</td><td>0.0</td><td>0.0</td><td>0.0</td><td>7.0</td><td>7.0</td><td>0.0</td><td>0.0</td><td>0.0</td><td>null</td><td>0.0</td><td>0.0</td><td>0.0</td></tr><tr><td>&quot;&quot;Eikou Naki Tensai-tachi&quot; Kara…</td><td>null</td><td>null</td><td>0.0</td><td>null</td><td>0.0</td><td>0.0</td><td>0.0</td><td>null</td><td>0.0</td><td>null</td><td>0.0</td><td>0.0</td><td>null</td><td>null</td><td>0.0</td><td>null</td><td>null</td><td>0.0</td><td>null</td><td>0.0</td><td>0.0</td><td>0.0</td><td>null</td><td>0.0</td><td>0.0</td><td>0.0</td><td>0.0</td><td>0.0</td><td>0.0</td><td>0.0</td><td>0.0</td><td>0.0</td><td>0.0</td><td>0.0</td><td>0.0</td><td>0.0</td><td>&hellip;</td><td>0.0</td><td>0.0</td><td>0.0</td><td>0.0</td><td>null</td><td>0.0</td><td>0.0</td><td>0.0</td><td>0.0</td><td>0.0</td><td>0.0</td><td>0.0</td><td>0.0</td><td>0.0</td><td>0.0</td><td>0.0</td><td>0.0</td><td>0.0</td><td>0.0</td><td>0.0</td><td>0.0</td><td>0.0</td><td>0.0</td><td>0.0</td><td>0.0</td><td>0.0</td><td>0.0</td><td>0.0</td><td>0.0</td><td>0.0</td><td>0.0</td><td>0.0</td><td>0.0</td><td>null</td><td>0.0</td><td>0.0</td><td>0.0</td></tr><tr><td>&quot;&quot;Eiyuu&quot; Kaitai&quot;</td><td>null</td><td>null</td><td>0.0</td><td>null</td><td>0.0</td><td>0.0</td><td>0.0</td><td>null</td><td>0.0</td><td>null</td><td>0.0</td><td>0.0</td><td>null</td><td>null</td><td>0.0</td><td>null</td><td>null</td><td>0.0</td><td>null</td><td>0.0</td><td>0.0</td><td>0.0</td><td>null</td><td>0.0</td><td>0.0</td><td>0.0</td><td>0.0</td><td>0.0</td><td>0.0</td><td>0.0</td><td>0.0</td><td>0.0</td><td>0.0</td><td>0.0</td><td>0.0</td><td>0.0</td><td>&hellip;</td><td>0.0</td><td>0.0</td><td>0.0</td><td>0.0</td><td>null</td><td>0.0</td><td>0.0</td><td>0.0</td><td>0.0</td><td>0.0</td><td>0.0</td><td>0.0</td><td>0.0</td><td>0.0</td><td>0.0</td><td>0.0</td><td>0.0</td><td>0.0</td><td>0.0</td><td>0.0</td><td>0.0</td><td>0.0</td><td>0.0</td><td>0.0</td><td>0.0</td><td>0.0</td><td>0.0</td><td>0.0</td><td>0.0</td><td>0.0</td><td>0.0</td><td>0.0</td><td>0.0</td><td>null</td><td>0.0</td><td>0.0</td><td>0.0</td></tr></tbody></table></div>"
      ],
      "text/plain": [
       "shape: (5, 108_710)\n",
       "┌─────────────┬─────────────┬─────────────┬────────────┬───┬──────┬────────┬──────────┬────────────┐\n",
       "│ title       ┆ ----phoebel ┆ ---L-AND-AM ┆ --AnimeBoy ┆ … ┆ zzvl ┆ zzz275 ┆ zzzcielo ┆ zzzzz-chan │\n",
       "│ ---         ┆ yn          ┆ E-4EV       ┆ --         ┆   ┆ ---  ┆ ---    ┆ ---      ┆ ---        │\n",
       "│ str         ┆ ---         ┆ ---         ┆ ---        ┆   ┆ str  ┆ f64    ┆ f64      ┆ f64        │\n",
       "│             ┆ str         ┆ str         ┆ f64        ┆   ┆      ┆        ┆          ┆            │\n",
       "╞═════════════╪═════════════╪═════════════╪════════════╪═══╪══════╪════════╪══════════╪════════════╡\n",
       "│ \"Bungaku    ┆ null        ┆ null        ┆ 0.0        ┆ … ┆ null ┆ 0.0    ┆ 0.0      ┆ 0.0        │\n",
       "│ Shoujo\"     ┆             ┆             ┆            ┆   ┆      ┆        ┆          ┆            │\n",
       "│ Kyou no     ┆             ┆             ┆            ┆   ┆      ┆        ┆          ┆            │\n",
       "│ Oyats…      ┆             ┆             ┆            ┆   ┆      ┆        ┆          ┆            │\n",
       "│ \"Bungaku    ┆ null        ┆ null        ┆ 0.0        ┆ … ┆ null ┆ 0.0    ┆ 0.0      ┆ 0.0        │\n",
       "│ Shoujo\"     ┆             ┆             ┆            ┆   ┆      ┆        ┆          ┆            │\n",
       "│ Memoire     ┆             ┆             ┆            ┆   ┆      ┆        ┆          ┆            │\n",
       "│ \"Bungaku    ┆ null        ┆ null        ┆ 6.0        ┆ … ┆ null ┆ 0.0    ┆ 0.0      ┆ 0.0        │\n",
       "│ Shoujo\"     ┆             ┆             ┆            ┆   ┆      ┆        ┆          ┆            │\n",
       "│ Movie       ┆             ┆             ┆            ┆   ┆      ┆        ┆          ┆            │\n",
       "│ \"Eikou Naki ┆ null        ┆ null        ┆ 0.0        ┆ … ┆ null ┆ 0.0    ┆ 0.0      ┆ 0.0        │\n",
       "│ Tensai-tach ┆             ┆             ┆            ┆   ┆      ┆        ┆          ┆            │\n",
       "│ i\" Kara…    ┆             ┆             ┆            ┆   ┆      ┆        ┆          ┆            │\n",
       "│ \"Eiyuu\"     ┆ null        ┆ null        ┆ 0.0        ┆ … ┆ null ┆ 0.0    ┆ 0.0      ┆ 0.0        │\n",
       "│ Kaitai      ┆             ┆             ┆            ┆   ┆      ┆        ┆          ┆            │\n",
       "└─────────────┴─────────────┴─────────────┴────────────┴───┴──────┴────────┴──────────┴────────────┘"
      ]
     },
     "execution_count": 15,
     "metadata": {},
     "output_type": "execute_result"
    }
   ],
   "source": [
    "animes_rated_by_users.head()"
   ]
  },
  {
   "cell_type": "code",
   "execution_count": 23,
   "metadata": {},
   "outputs": [
    {
     "data": {
      "text/html": [
       "<div><style>\n",
       ".dataframe > thead > tr,\n",
       ".dataframe > tbody > tr {\n",
       "  text-align: right;\n",
       "  white-space: pre-wrap;\n",
       "}\n",
       "</style>\n",
       "<small>shape: (116, 2)</small><table border=\"1\" class=\"dataframe\"><thead><tr><th>--Etsuko--</th><th>title</th></tr><tr><td>str</td><td>str</td></tr></thead><tbody><tr><td>&quot;5.0&quot;</td><td>&quot;Akagami no Shirayuki-hime&quot;</td></tr><tr><td>&quot;8.0&quot;</td><td>&quot;Akatsuki no Yona&quot;</td></tr><tr><td>&quot;0.0&quot;</td><td>&quot;Akatsuki no Yona OVA&quot;</td></tr><tr><td>&quot;7.0&quot;</td><td>&quot;Amnesia&quot;</td></tr><tr><td>&quot;7.0&quot;</td><td>&quot;Amnesia OVA&quot;</td></tr><tr><td>&hellip;</td><td>&hellip;</td></tr><tr><td>&quot;0.0&quot;</td><td>&quot;Trickster: Edogawa Ranpo &quot;Shou…</td></tr><tr><td>&quot;0.0&quot;</td><td>&quot;Watashi ga Motenai no wa Dou K…</td></tr><tr><td>&quot;9.0&quot;</td><td>&quot;Yuri!!! on Ice&quot;</td></tr><tr><td>&quot;8.0&quot;</td><td>&quot;Zombie-Loan&quot;</td></tr><tr><td>&quot;8.0&quot;</td><td>&quot;Zombie-Loan Specials&quot;</td></tr></tbody></table></div>"
      ],
      "text/plain": [
       "shape: (116, 2)\n",
       "┌────────────┬─────────────────────────────────┐\n",
       "│ --Etsuko-- ┆ title                           │\n",
       "│ ---        ┆ ---                             │\n",
       "│ str        ┆ str                             │\n",
       "╞════════════╪═════════════════════════════════╡\n",
       "│ 5.0        ┆ Akagami no Shirayuki-hime       │\n",
       "│ 8.0        ┆ Akatsuki no Yona                │\n",
       "│ 0.0        ┆ Akatsuki no Yona OVA            │\n",
       "│ 7.0        ┆ Amnesia                         │\n",
       "│ 7.0        ┆ Amnesia OVA                     │\n",
       "│ …          ┆ …                               │\n",
       "│ 0.0        ┆ Trickster: Edogawa Ranpo \"Shou… │\n",
       "│ 0.0        ┆ Watashi ga Motenai no wa Dou K… │\n",
       "│ 9.0        ┆ Yuri!!! on Ice                  │\n",
       "│ 8.0        ┆ Zombie-Loan                     │\n",
       "│ 8.0        ┆ Zombie-Loan Specials            │\n",
       "└────────────┴─────────────────────────────────┘"
      ]
     },
     "execution_count": 23,
     "metadata": {},
     "output_type": "execute_result"
    }
   ],
   "source": [
    "animes_rated_by_users.select(pl.col('--Etsuko--'), pl.col('title')).filter(pl.col('--Etsuko--') != 'null')"
   ]
  },
  {
   "cell_type": "code",
   "execution_count": null,
   "metadata": {},
   "outputs": [],
   "source": []
  }
 ],
 "metadata": {
  "kernelspec": {
   "display_name": "Python 3",
   "language": "python",
   "name": "python3"
  },
  "language_info": {
   "codemirror_mode": {
    "name": "ipython",
    "version": 3
   },
   "file_extension": ".py",
   "mimetype": "text/x-python",
   "name": "python",
   "nbconvert_exporter": "python",
   "pygments_lexer": "ipython3",
   "version": "3.12.4"
  }
 },
 "nbformat": 4,
 "nbformat_minor": 2
}
